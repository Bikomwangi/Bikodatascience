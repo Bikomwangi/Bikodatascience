{
  "nbformat": 4,
  "nbformat_minor": 0,
  "metadata": {
    "colab": {
      "name": "BIKO_MWANGI_Moringa_Data_Science_CORE_W4_Independent_Project_Python_Notebook",
      "provenance": [],
      "include_colab_link": true
    },
    "kernelspec": {
      "name": "python3",
      "display_name": "Python 3"
    }
  },
  "cells": [
    {
      "cell_type": "markdown",
      "metadata": {
        "id": "view-in-github",
        "colab_type": "text"
      },
      "source": [
        "<a href=\"https://colab.research.google.com/github/Bikomwangi/Bikodatascience/blob/master/BIKO_MWANGI_Moringa_Data_Science_CORE_W4_Independent_Project_Python_Notebook.ipynb\" target=\"_parent\"><img src=\"https://colab.research.google.com/assets/colab-badge.svg\" alt=\"Open In Colab\"/></a>"
      ]
    },
    {
      "cell_type": "markdown",
      "metadata": {
        "id": "6dpy1wPNOWg3",
        "colab_type": "text"
      },
      "source": [
        "# **READING THE DATA**"
      ]
    },
    {
      "cell_type": "code",
      "metadata": {
        "id": "5bFfUr5Mz1gz",
        "colab_type": "code",
        "colab": {}
      },
      "source": [
        "# importing the relevant libraries\n",
        "import pandas as pd\n",
        "import numpy as np\n",
        "import matplotlib.pyplot as plt\n",
        "import seaborn as sns"
      ],
      "execution_count": 57,
      "outputs": []
    },
    {
      "cell_type": "code",
      "metadata": {
        "id": "U2snF7794IJK",
        "colab_type": "code",
        "colab": {}
      },
      "source": [
        "#This will read the link 'http://bit.ly/DSCoreAutolibDataset' as a csv file and later load it into a dataframe\n",
        "url = 'http://bit.ly/DSCoreAutolibDataset'\n",
        "autolib = pd.read_csv(url, delimiter=',')\n",
        "autolib_df = pd.DataFrame(autolib)\n"
      ],
      "execution_count": 58,
      "outputs": []
    },
    {
      "cell_type": "markdown",
      "metadata": {
        "id": "0i6wsDbXOIQK",
        "colab_type": "text"
      },
      "source": [
        "# **CHECKING THE DATASET**"
      ]
    },
    {
      "cell_type": "code",
      "metadata": {
        "id": "hSCT1yLTwWO_",
        "colab_type": "code",
        "colab": {
          "base_uri": "https://localhost:8080/",
          "height": 34
        },
        "outputId": "e6c8e5c0-4ae3-4b02-d1d2-b3e54704986f"
      },
      "source": [
        "# determining the number of records in the dataset\n",
        "autolib_df.shape"
      ],
      "execution_count": 59,
      "outputs": [
        {
          "output_type": "execute_result",
          "data": {
            "text/plain": [
              "(16085, 13)"
            ]
          },
          "metadata": {
            "tags": []
          },
          "execution_count": 59
        }
      ]
    },
    {
      "cell_type": "code",
      "metadata": {
        "id": "CiWx3zmBwnoA",
        "colab_type": "code",
        "colab": {
          "base_uri": "https://localhost:8080/",
          "height": 236
        },
        "outputId": "155535e9-9381-4eb6-f433-dd985a27217c"
      },
      "source": [
        "# previewing the top of the dataset\n",
        "autolib_df.head()"
      ],
      "execution_count": 60,
      "outputs": [
        {
          "output_type": "execute_result",
          "data": {
            "text/html": [
              "<div>\n",
              "<style scoped>\n",
              "    .dataframe tbody tr th:only-of-type {\n",
              "        vertical-align: middle;\n",
              "    }\n",
              "\n",
              "    .dataframe tbody tr th {\n",
              "        vertical-align: top;\n",
              "    }\n",
              "\n",
              "    .dataframe thead th {\n",
              "        text-align: right;\n",
              "    }\n",
              "</style>\n",
              "<table border=\"1\" class=\"dataframe\">\n",
              "  <thead>\n",
              "    <tr style=\"text-align: right;\">\n",
              "      <th></th>\n",
              "      <th>Postal code</th>\n",
              "      <th>date</th>\n",
              "      <th>n_daily_data_points</th>\n",
              "      <th>dayOfWeek</th>\n",
              "      <th>day_type</th>\n",
              "      <th>BlueCars_taken_sum</th>\n",
              "      <th>BlueCars_returned_sum</th>\n",
              "      <th>Utilib_taken_sum</th>\n",
              "      <th>Utilib_returned_sum</th>\n",
              "      <th>Utilib_14_taken_sum</th>\n",
              "      <th>Utilib_14_returned_sum</th>\n",
              "      <th>Slots_freed_sum</th>\n",
              "      <th>Slots_taken_sum</th>\n",
              "    </tr>\n",
              "  </thead>\n",
              "  <tbody>\n",
              "    <tr>\n",
              "      <th>0</th>\n",
              "      <td>75001</td>\n",
              "      <td>1/1/2018</td>\n",
              "      <td>1440</td>\n",
              "      <td>0</td>\n",
              "      <td>weekday</td>\n",
              "      <td>110</td>\n",
              "      <td>103</td>\n",
              "      <td>3</td>\n",
              "      <td>2</td>\n",
              "      <td>10</td>\n",
              "      <td>9</td>\n",
              "      <td>22</td>\n",
              "      <td>20</td>\n",
              "    </tr>\n",
              "    <tr>\n",
              "      <th>1</th>\n",
              "      <td>75001</td>\n",
              "      <td>1/2/2018</td>\n",
              "      <td>1438</td>\n",
              "      <td>1</td>\n",
              "      <td>weekday</td>\n",
              "      <td>98</td>\n",
              "      <td>94</td>\n",
              "      <td>1</td>\n",
              "      <td>1</td>\n",
              "      <td>8</td>\n",
              "      <td>8</td>\n",
              "      <td>23</td>\n",
              "      <td>22</td>\n",
              "    </tr>\n",
              "    <tr>\n",
              "      <th>2</th>\n",
              "      <td>75001</td>\n",
              "      <td>1/3/2018</td>\n",
              "      <td>1439</td>\n",
              "      <td>2</td>\n",
              "      <td>weekday</td>\n",
              "      <td>138</td>\n",
              "      <td>139</td>\n",
              "      <td>0</td>\n",
              "      <td>0</td>\n",
              "      <td>2</td>\n",
              "      <td>2</td>\n",
              "      <td>27</td>\n",
              "      <td>27</td>\n",
              "    </tr>\n",
              "    <tr>\n",
              "      <th>3</th>\n",
              "      <td>75001</td>\n",
              "      <td>1/4/2018</td>\n",
              "      <td>1320</td>\n",
              "      <td>3</td>\n",
              "      <td>weekday</td>\n",
              "      <td>104</td>\n",
              "      <td>104</td>\n",
              "      <td>2</td>\n",
              "      <td>2</td>\n",
              "      <td>9</td>\n",
              "      <td>8</td>\n",
              "      <td>25</td>\n",
              "      <td>21</td>\n",
              "    </tr>\n",
              "    <tr>\n",
              "      <th>4</th>\n",
              "      <td>75001</td>\n",
              "      <td>1/5/2018</td>\n",
              "      <td>1440</td>\n",
              "      <td>4</td>\n",
              "      <td>weekday</td>\n",
              "      <td>114</td>\n",
              "      <td>117</td>\n",
              "      <td>3</td>\n",
              "      <td>3</td>\n",
              "      <td>6</td>\n",
              "      <td>6</td>\n",
              "      <td>18</td>\n",
              "      <td>20</td>\n",
              "    </tr>\n",
              "  </tbody>\n",
              "</table>\n",
              "</div>"
            ],
            "text/plain": [
              "   Postal code      date  ...  Slots_freed_sum  Slots_taken_sum\n",
              "0        75001  1/1/2018  ...               22               20\n",
              "1        75001  1/2/2018  ...               23               22\n",
              "2        75001  1/3/2018  ...               27               27\n",
              "3        75001  1/4/2018  ...               25               21\n",
              "4        75001  1/5/2018  ...               18               20\n",
              "\n",
              "[5 rows x 13 columns]"
            ]
          },
          "metadata": {
            "tags": []
          },
          "execution_count": 60
        }
      ]
    },
    {
      "cell_type": "code",
      "metadata": {
        "id": "8lQPbc43xIKp",
        "colab_type": "code",
        "colab": {
          "base_uri": "https://localhost:8080/",
          "height": 236
        },
        "outputId": "3963c0e9-918a-45ed-d958-c4c104a03916"
      },
      "source": [
        "# previewing the bottom\n",
        "autolib_df.tail()"
      ],
      "execution_count": 61,
      "outputs": [
        {
          "output_type": "execute_result",
          "data": {
            "text/html": [
              "<div>\n",
              "<style scoped>\n",
              "    .dataframe tbody tr th:only-of-type {\n",
              "        vertical-align: middle;\n",
              "    }\n",
              "\n",
              "    .dataframe tbody tr th {\n",
              "        vertical-align: top;\n",
              "    }\n",
              "\n",
              "    .dataframe thead th {\n",
              "        text-align: right;\n",
              "    }\n",
              "</style>\n",
              "<table border=\"1\" class=\"dataframe\">\n",
              "  <thead>\n",
              "    <tr style=\"text-align: right;\">\n",
              "      <th></th>\n",
              "      <th>Postal code</th>\n",
              "      <th>date</th>\n",
              "      <th>n_daily_data_points</th>\n",
              "      <th>dayOfWeek</th>\n",
              "      <th>day_type</th>\n",
              "      <th>BlueCars_taken_sum</th>\n",
              "      <th>BlueCars_returned_sum</th>\n",
              "      <th>Utilib_taken_sum</th>\n",
              "      <th>Utilib_returned_sum</th>\n",
              "      <th>Utilib_14_taken_sum</th>\n",
              "      <th>Utilib_14_returned_sum</th>\n",
              "      <th>Slots_freed_sum</th>\n",
              "      <th>Slots_taken_sum</th>\n",
              "    </tr>\n",
              "  </thead>\n",
              "  <tbody>\n",
              "    <tr>\n",
              "      <th>16080</th>\n",
              "      <td>95880</td>\n",
              "      <td>6/15/2018</td>\n",
              "      <td>1440</td>\n",
              "      <td>4</td>\n",
              "      <td>weekday</td>\n",
              "      <td>15</td>\n",
              "      <td>10</td>\n",
              "      <td>0</td>\n",
              "      <td>0</td>\n",
              "      <td>2</td>\n",
              "      <td>3</td>\n",
              "      <td>0</td>\n",
              "      <td>0</td>\n",
              "    </tr>\n",
              "    <tr>\n",
              "      <th>16081</th>\n",
              "      <td>95880</td>\n",
              "      <td>6/16/2018</td>\n",
              "      <td>1440</td>\n",
              "      <td>5</td>\n",
              "      <td>weekend</td>\n",
              "      <td>19</td>\n",
              "      <td>19</td>\n",
              "      <td>0</td>\n",
              "      <td>0</td>\n",
              "      <td>2</td>\n",
              "      <td>1</td>\n",
              "      <td>0</td>\n",
              "      <td>0</td>\n",
              "    </tr>\n",
              "    <tr>\n",
              "      <th>16082</th>\n",
              "      <td>95880</td>\n",
              "      <td>6/17/2018</td>\n",
              "      <td>1440</td>\n",
              "      <td>6</td>\n",
              "      <td>weekend</td>\n",
              "      <td>33</td>\n",
              "      <td>35</td>\n",
              "      <td>1</td>\n",
              "      <td>1</td>\n",
              "      <td>0</td>\n",
              "      <td>0</td>\n",
              "      <td>0</td>\n",
              "      <td>0</td>\n",
              "    </tr>\n",
              "    <tr>\n",
              "      <th>16083</th>\n",
              "      <td>95880</td>\n",
              "      <td>6/18/2018</td>\n",
              "      <td>1440</td>\n",
              "      <td>0</td>\n",
              "      <td>weekday</td>\n",
              "      <td>11</td>\n",
              "      <td>14</td>\n",
              "      <td>3</td>\n",
              "      <td>5</td>\n",
              "      <td>2</td>\n",
              "      <td>2</td>\n",
              "      <td>0</td>\n",
              "      <td>0</td>\n",
              "    </tr>\n",
              "    <tr>\n",
              "      <th>16084</th>\n",
              "      <td>95880</td>\n",
              "      <td>6/19/2018</td>\n",
              "      <td>1370</td>\n",
              "      <td>1</td>\n",
              "      <td>weekday</td>\n",
              "      <td>2</td>\n",
              "      <td>2</td>\n",
              "      <td>2</td>\n",
              "      <td>1</td>\n",
              "      <td>0</td>\n",
              "      <td>0</td>\n",
              "      <td>0</td>\n",
              "      <td>0</td>\n",
              "    </tr>\n",
              "  </tbody>\n",
              "</table>\n",
              "</div>"
            ],
            "text/plain": [
              "       Postal code       date  ...  Slots_freed_sum  Slots_taken_sum\n",
              "16080        95880  6/15/2018  ...                0                0\n",
              "16081        95880  6/16/2018  ...                0                0\n",
              "16082        95880  6/17/2018  ...                0                0\n",
              "16083        95880  6/18/2018  ...                0                0\n",
              "16084        95880  6/19/2018  ...                0                0\n",
              "\n",
              "[5 rows x 13 columns]"
            ]
          },
          "metadata": {
            "tags": []
          },
          "execution_count": 61
        }
      ]
    },
    {
      "cell_type": "code",
      "metadata": {
        "id": "WrMJwtUcy1So",
        "colab_type": "code",
        "colab": {
          "base_uri": "https://localhost:8080/",
          "height": 263
        },
        "outputId": "f34ca289-d2e8-49f2-803b-2d79ac474aa1"
      },
      "source": [
        "# checking whether each column has appropriate data types\n",
        "autolib_df.dtypes"
      ],
      "execution_count": 62,
      "outputs": [
        {
          "output_type": "execute_result",
          "data": {
            "text/plain": [
              "Postal code                int64\n",
              "date                      object\n",
              "n_daily_data_points        int64\n",
              "dayOfWeek                  int64\n",
              "day_type                  object\n",
              "BlueCars_taken_sum         int64\n",
              "BlueCars_returned_sum      int64\n",
              "Utilib_taken_sum           int64\n",
              "Utilib_returned_sum        int64\n",
              "Utilib_14_taken_sum        int64\n",
              "Utilib_14_returned_sum     int64\n",
              "Slots_freed_sum            int64\n",
              "Slots_taken_sum            int64\n",
              "dtype: object"
            ]
          },
          "metadata": {
            "tags": []
          },
          "execution_count": 62
        }
      ]
    },
    {
      "cell_type": "markdown",
      "metadata": {
        "id": "yVOsf9FZzPlK",
        "colab_type": "text"
      },
      "source": [
        "# **TIDYING THE DATASET**"
      ]
    },
    {
      "cell_type": "code",
      "metadata": {
        "id": "kR7pUwOlzZhK",
        "colab_type": "code",
        "colab": {
          "base_uri": "https://localhost:8080/",
          "height": 199
        },
        "outputId": "22050764-7475-493c-fbf1-02f8eea7d6b9"
      },
      "source": [
        "# dropping columns that will not applicable in this analysis\n",
        "to_drop = ['n_daily_data_points', 'dayOfWeek', 'Utilib_taken_sum', 'Utilib_returned_sum', 'Utilib_14_taken_sum', 'Utilib_14_returned_sum', 'Slots_freed_sum', 'Slots_taken_sum']\n",
        "autolib_df.drop(to_drop, axis=1, inplace=True)\n",
        "autolib_df.head()"
      ],
      "execution_count": 63,
      "outputs": [
        {
          "output_type": "execute_result",
          "data": {
            "text/html": [
              "<div>\n",
              "<style scoped>\n",
              "    .dataframe tbody tr th:only-of-type {\n",
              "        vertical-align: middle;\n",
              "    }\n",
              "\n",
              "    .dataframe tbody tr th {\n",
              "        vertical-align: top;\n",
              "    }\n",
              "\n",
              "    .dataframe thead th {\n",
              "        text-align: right;\n",
              "    }\n",
              "</style>\n",
              "<table border=\"1\" class=\"dataframe\">\n",
              "  <thead>\n",
              "    <tr style=\"text-align: right;\">\n",
              "      <th></th>\n",
              "      <th>Postal code</th>\n",
              "      <th>date</th>\n",
              "      <th>day_type</th>\n",
              "      <th>BlueCars_taken_sum</th>\n",
              "      <th>BlueCars_returned_sum</th>\n",
              "    </tr>\n",
              "  </thead>\n",
              "  <tbody>\n",
              "    <tr>\n",
              "      <th>0</th>\n",
              "      <td>75001</td>\n",
              "      <td>1/1/2018</td>\n",
              "      <td>weekday</td>\n",
              "      <td>110</td>\n",
              "      <td>103</td>\n",
              "    </tr>\n",
              "    <tr>\n",
              "      <th>1</th>\n",
              "      <td>75001</td>\n",
              "      <td>1/2/2018</td>\n",
              "      <td>weekday</td>\n",
              "      <td>98</td>\n",
              "      <td>94</td>\n",
              "    </tr>\n",
              "    <tr>\n",
              "      <th>2</th>\n",
              "      <td>75001</td>\n",
              "      <td>1/3/2018</td>\n",
              "      <td>weekday</td>\n",
              "      <td>138</td>\n",
              "      <td>139</td>\n",
              "    </tr>\n",
              "    <tr>\n",
              "      <th>3</th>\n",
              "      <td>75001</td>\n",
              "      <td>1/4/2018</td>\n",
              "      <td>weekday</td>\n",
              "      <td>104</td>\n",
              "      <td>104</td>\n",
              "    </tr>\n",
              "    <tr>\n",
              "      <th>4</th>\n",
              "      <td>75001</td>\n",
              "      <td>1/5/2018</td>\n",
              "      <td>weekday</td>\n",
              "      <td>114</td>\n",
              "      <td>117</td>\n",
              "    </tr>\n",
              "  </tbody>\n",
              "</table>\n",
              "</div>"
            ],
            "text/plain": [
              "   Postal code      date day_type  BlueCars_taken_sum  BlueCars_returned_sum\n",
              "0        75001  1/1/2018  weekday                 110                    103\n",
              "1        75001  1/2/2018  weekday                  98                     94\n",
              "2        75001  1/3/2018  weekday                 138                    139\n",
              "3        75001  1/4/2018  weekday                 104                    104\n",
              "4        75001  1/5/2018  weekday                 114                    117"
            ]
          },
          "metadata": {
            "tags": []
          },
          "execution_count": 63
        }
      ]
    },
    {
      "cell_type": "code",
      "metadata": {
        "id": "JhX3jdiZ7of3",
        "colab_type": "code",
        "colab": {
          "base_uri": "https://localhost:8080/",
          "height": 276
        },
        "outputId": "896e9b7a-bcee-48c3-dfa0-fc86cc749d90"
      },
      "source": [
        "# detecting outliers\n",
        "autolib_df.boxplot(column =['BlueCars_taken_sum', 'BlueCars_returned_sum'], grid = False) \n",
        "\n",
        "plt.show()\n"
      ],
      "execution_count": 64,
      "outputs": [
        {
          "output_type": "display_data",
          "data": {
            "image/png": "[encoded data removed]",
            "text/plain": [
              "<Figure size 432x288 with 1 Axes>"
            ]
          },
          "metadata": {
            "tags": []
          }
        }
      ]
    },
    {
      "cell_type": "markdown",
      "metadata": {
        "id": "cEPrcIxq-m1s",
        "colab_type": "text"
      },
      "source": [
        "Since the two columns above contain a significant number of outliers, I will conclude that the outliers are not erroneuos but they may have occured due to random variation."
      ]
    },
    {
      "cell_type": "code",
      "metadata": {
        "id": "XGoksGSKAg6L",
        "colab_type": "code",
        "colab": {
          "base_uri": "https://localhost:8080/",
          "height": 122
        },
        "outputId": "112a0378-d04a-4287-e2a1-dbb92fc08b44"
      },
      "source": [
        "# checking the number of unique variables in each column\n",
        "autolib_df.nunique()"
      ],
      "execution_count": 65,
      "outputs": [
        {
          "output_type": "execute_result",
          "data": {
            "text/plain": [
              "Postal code              104\n",
              "date                     156\n",
              "day_type                   2\n",
              "BlueCars_taken_sum       932\n",
              "BlueCars_returned_sum    929\n",
              "dtype: int64"
            ]
          },
          "metadata": {
            "tags": []
          },
          "execution_count": 65
        }
      ]
    },
    {
      "cell_type": "code",
      "metadata": {
        "id": "QBpxSRSmA-qu",
        "colab_type": "code",
        "colab": {
          "base_uri": "https://localhost:8080/",
          "height": 122
        },
        "outputId": "6aecabcc-8744-448f-bf0b-26411d4013ad"
      },
      "source": [
        "# Identifying the Missing Data\n",
        "#\n",
        "missing_values_count = autolib_df.isnull().sum()\n",
        "missing_values_count"
      ],
      "execution_count": 66,
      "outputs": [
        {
          "output_type": "execute_result",
          "data": {
            "text/plain": [
              "Postal code              0\n",
              "date                     0\n",
              "day_type                 0\n",
              "BlueCars_taken_sum       0\n",
              "BlueCars_returned_sum    0\n",
              "dtype: int64"
            ]
          },
          "metadata": {
            "tags": []
          },
          "execution_count": 66
        }
      ]
    },
    {
      "cell_type": "code",
      "metadata": {
        "id": "KnGrdFlvf6k-",
        "colab_type": "code",
        "colab": {
          "base_uri": "https://localhost:8080/",
          "height": 122
        },
        "outputId": "46d5647e-4d8d-4a3d-97e8-6cebd7ee8503"
      },
      "source": [
        "#checking for any null values that might be present\n",
        "autolib_df.isnull().any()"
      ],
      "execution_count": 67,
      "outputs": [
        {
          "output_type": "execute_result",
          "data": {
            "text/plain": [
              "Postal code              False\n",
              "date                     False\n",
              "day_type                 False\n",
              "BlueCars_taken_sum       False\n",
              "BlueCars_returned_sum    False\n",
              "dtype: bool"
            ]
          },
          "metadata": {
            "tags": []
          },
          "execution_count": 67
        }
      ]
    },
    {
      "cell_type": "markdown",
      "metadata": {
        "id": "LtSgZeT9Nlxo",
        "colab_type": "text"
      },
      "source": [
        "# **EXPLORATORY DATA ANALYSIS**\n"
      ]
    },
    {
      "cell_type": "code",
      "metadata": {
        "id": "B7hZ5-VFDr8u",
        "colab_type": "code",
        "colab": {
          "base_uri": "https://localhost:8080/",
          "height": 169
        },
        "outputId": "ed561907-413d-4e47-82f9-75b669869767"
      },
      "source": [
        "a= autolib_df[['BlueCars_taken_sum', 'day_type']].groupby(['day_type']).describe()\n",
        "round(a,1)"
      ],
      "execution_count": 68,
      "outputs": [
        {
          "output_type": "execute_result",
          "data": {
            "text/html": [
              "<div>\n",
              "<style scoped>\n",
              "    .dataframe tbody tr th:only-of-type {\n",
              "        vertical-align: middle;\n",
              "    }\n",
              "\n",
              "    .dataframe tbody tr th {\n",
              "        vertical-align: top;\n",
              "    }\n",
              "\n",
              "    .dataframe thead tr th {\n",
              "        text-align: left;\n",
              "    }\n",
              "\n",
              "    .dataframe thead tr:last-of-type th {\n",
              "        text-align: right;\n",
              "    }\n",
              "</style>\n",
              "<table border=\"1\" class=\"dataframe\">\n",
              "  <thead>\n",
              "    <tr>\n",
              "      <th></th>\n",
              "      <th colspan=\"8\" halign=\"left\">BlueCars_taken_sum</th>\n",
              "    </tr>\n",
              "    <tr>\n",
              "      <th></th>\n",
              "      <th>count</th>\n",
              "      <th>mean</th>\n",
              "      <th>std</th>\n",
              "      <th>min</th>\n",
              "      <th>25%</th>\n",
              "      <th>50%</th>\n",
              "      <th>75%</th>\n",
              "      <th>max</th>\n",
              "    </tr>\n",
              "    <tr>\n",
              "      <th>day_type</th>\n",
              "      <th></th>\n",
              "      <th></th>\n",
              "      <th></th>\n",
              "      <th></th>\n",
              "      <th></th>\n",
              "      <th></th>\n",
              "      <th></th>\n",
              "      <th></th>\n",
              "    </tr>\n",
              "  </thead>\n",
              "  <tbody>\n",
              "    <tr>\n",
              "      <th>weekday</th>\n",
              "      <td>11544.0</td>\n",
              "      <td>116.0</td>\n",
              "      <td>169.6</td>\n",
              "      <td>0.0</td>\n",
              "      <td>18.0</td>\n",
              "      <td>42.0</td>\n",
              "      <td>126.0</td>\n",
              "      <td>1093.0</td>\n",
              "    </tr>\n",
              "    <tr>\n",
              "      <th>weekend</th>\n",
              "      <td>4541.0</td>\n",
              "      <td>151.1</td>\n",
              "      <td>218.6</td>\n",
              "      <td>0.0</td>\n",
              "      <td>25.0</td>\n",
              "      <td>59.0</td>\n",
              "      <td>156.0</td>\n",
              "      <td>1352.0</td>\n",
              "    </tr>\n",
              "  </tbody>\n",
              "</table>\n",
              "</div>"
            ],
            "text/plain": [
              "         BlueCars_taken_sum                                              \n",
              "                      count   mean    std  min   25%   50%    75%     max\n",
              "day_type                                                                 \n",
              "weekday             11544.0  116.0  169.6  0.0  18.0  42.0  126.0  1093.0\n",
              "weekend              4541.0  151.1  218.6  0.0  25.0  59.0  156.0  1352.0"
            ]
          },
          "metadata": {
            "tags": []
          },
          "execution_count": 68
        }
      ]
    },
    {
      "cell_type": "code",
      "metadata": {
        "id": "3jRIGg7aQkJa",
        "colab_type": "code",
        "colab": {
          "base_uri": "https://localhost:8080/",
          "height": 174
        },
        "outputId": "d98258e9-d276-4889-ef02-8347a53190b7"
      },
      "source": [
        "!pip install -q researchpy\n",
        "import researchpy as rp\n",
        "from scipy import stats\n",
        "rp.summary_cont(autolib_df.groupby(\"day_type\")['BlueCars_taken_sum'])\n"
      ],
      "execution_count": 69,
      "outputs": [
        {
          "output_type": "stream",
          "text": [
            "\n",
            "\n"
          ],
          "name": "stdout"
        },
        {
          "output_type": "execute_result",
          "data": {
            "text/html": [
              "<div>\n",
              "<style scoped>\n",
              "    .dataframe tbody tr th:only-of-type {\n",
              "        vertical-align: middle;\n",
              "    }\n",
              "\n",
              "    .dataframe tbody tr th {\n",
              "        vertical-align: top;\n",
              "    }\n",
              "\n",
              "    .dataframe thead th {\n",
              "        text-align: right;\n",
              "    }\n",
              "</style>\n",
              "<table border=\"1\" class=\"dataframe\">\n",
              "  <thead>\n",
              "    <tr style=\"text-align: right;\">\n",
              "      <th></th>\n",
              "      <th>N</th>\n",
              "      <th>Mean</th>\n",
              "      <th>SD</th>\n",
              "      <th>SE</th>\n",
              "      <th>95% Conf.</th>\n",
              "      <th>Interval</th>\n",
              "    </tr>\n",
              "    <tr>\n",
              "      <th>day_type</th>\n",
              "      <th></th>\n",
              "      <th></th>\n",
              "      <th></th>\n",
              "      <th></th>\n",
              "      <th></th>\n",
              "      <th></th>\n",
              "    </tr>\n",
              "  </thead>\n",
              "  <tbody>\n",
              "    <tr>\n",
              "      <th>weekday</th>\n",
              "      <td>11544</td>\n",
              "      <td>116.0287</td>\n",
              "      <td>169.6269</td>\n",
              "      <td>1.5788</td>\n",
              "      <td>112.9340</td>\n",
              "      <td>119.1233</td>\n",
              "    </tr>\n",
              "    <tr>\n",
              "      <th>weekend</th>\n",
              "      <td>4541</td>\n",
              "      <td>151.0901</td>\n",
              "      <td>218.5656</td>\n",
              "      <td>3.2434</td>\n",
              "      <td>144.7313</td>\n",
              "      <td>157.4488</td>\n",
              "    </tr>\n",
              "  </tbody>\n",
              "</table>\n",
              "</div>"
            ],
            "text/plain": [
              "              N      Mean        SD      SE  95% Conf.  Interval\n",
              "day_type                                                        \n",
              "weekday   11544  116.0287  169.6269  1.5788   112.9340  119.1233\n",
              "weekend    4541  151.0901  218.5656  3.2434   144.7313  157.4488"
            ]
          },
          "metadata": {
            "tags": []
          },
          "execution_count": 69
        }
      ]
    },
    {
      "cell_type": "code",
      "metadata": {
        "id": "5pOZsDIiUqN5",
        "colab_type": "code",
        "colab": {
          "base_uri": "https://localhost:8080/",
          "height": 410
        },
        "outputId": "25f6243e-0197-478b-ae4c-ddae6f481c13"
      },
      "source": [
        "rp.summary_cat(autolib_df[['Postal code']])"
      ],
      "execution_count": 70,
      "outputs": [
        {
          "output_type": "execute_result",
          "data": {
            "text/html": [
              "<div>\n",
              "<style scoped>\n",
              "    .dataframe tbody tr th:only-of-type {\n",
              "        vertical-align: middle;\n",
              "    }\n",
              "\n",
              "    .dataframe tbody tr th {\n",
              "        vertical-align: top;\n",
              "    }\n",
              "\n",
              "    .dataframe thead th {\n",
              "        text-align: right;\n",
              "    }\n",
              "</style>\n",
              "<table border=\"1\" class=\"dataframe\">\n",
              "  <thead>\n",
              "    <tr style=\"text-align: right;\">\n",
              "      <th></th>\n",
              "      <th>Variable</th>\n",
              "      <th>Outcome</th>\n",
              "      <th>Count</th>\n",
              "      <th>Percent</th>\n",
              "    </tr>\n",
              "  </thead>\n",
              "  <tbody>\n",
              "    <tr>\n",
              "      <th>0</th>\n",
              "      <td>Postal code</td>\n",
              "      <td>94130</td>\n",
              "      <td>156</td>\n",
              "      <td>0.97</td>\n",
              "    </tr>\n",
              "    <tr>\n",
              "      <th>1</th>\n",
              "      <td></td>\n",
              "      <td>93130</td>\n",
              "      <td>156</td>\n",
              "      <td>0.97</td>\n",
              "    </tr>\n",
              "    <tr>\n",
              "      <th>2</th>\n",
              "      <td></td>\n",
              "      <td>92370</td>\n",
              "      <td>156</td>\n",
              "      <td>0.97</td>\n",
              "    </tr>\n",
              "    <tr>\n",
              "      <th>3</th>\n",
              "      <td></td>\n",
              "      <td>92330</td>\n",
              "      <td>156</td>\n",
              "      <td>0.97</td>\n",
              "    </tr>\n",
              "    <tr>\n",
              "      <th>4</th>\n",
              "      <td></td>\n",
              "      <td>92290</td>\n",
              "      <td>156</td>\n",
              "      <td>0.97</td>\n",
              "    </tr>\n",
              "    <tr>\n",
              "      <th>...</th>\n",
              "      <td>...</td>\n",
              "      <td>...</td>\n",
              "      <td>...</td>\n",
              "      <td>...</td>\n",
              "    </tr>\n",
              "    <tr>\n",
              "      <th>99</th>\n",
              "      <td></td>\n",
              "      <td>93150</td>\n",
              "      <td>151</td>\n",
              "      <td>0.94</td>\n",
              "    </tr>\n",
              "    <tr>\n",
              "      <th>100</th>\n",
              "      <td></td>\n",
              "      <td>93370</td>\n",
              "      <td>149</td>\n",
              "      <td>0.93</td>\n",
              "    </tr>\n",
              "    <tr>\n",
              "      <th>101</th>\n",
              "      <td></td>\n",
              "      <td>92340</td>\n",
              "      <td>147</td>\n",
              "      <td>0.91</td>\n",
              "    </tr>\n",
              "    <tr>\n",
              "      <th>102</th>\n",
              "      <td></td>\n",
              "      <td>93200</td>\n",
              "      <td>126</td>\n",
              "      <td>0.78</td>\n",
              "    </tr>\n",
              "    <tr>\n",
              "      <th>103</th>\n",
              "      <td></td>\n",
              "      <td>93390</td>\n",
              "      <td>84</td>\n",
              "      <td>0.52</td>\n",
              "    </tr>\n",
              "  </tbody>\n",
              "</table>\n",
              "<p>104 rows × 4 columns</p>\n",
              "</div>"
            ],
            "text/plain": [
              "        Variable  Outcome  Count  Percent\n",
              "0    Postal code    94130    156     0.97\n",
              "1                   93130    156     0.97\n",
              "2                   92370    156     0.97\n",
              "3                   92330    156     0.97\n",
              "4                   92290    156     0.97\n",
              "..           ...      ...    ...      ...\n",
              "99                  93150    151     0.94\n",
              "100                 93370    149     0.93\n",
              "101                 92340    147     0.91\n",
              "102                 93200    126     0.78\n",
              "103                 93390     84     0.52\n",
              "\n",
              "[104 rows x 4 columns]"
            ]
          },
          "metadata": {
            "tags": []
          },
          "execution_count": 70
        }
      ]
    },
    {
      "cell_type": "markdown",
      "metadata": {
        "id": "eTz35TxKXPQY",
        "colab_type": "text"
      },
      "source": [
        "**Box and Whisker's Plot**"
      ]
    },
    {
      "cell_type": "code",
      "metadata": {
        "id": "Pi4FWEpvVnxP",
        "colab_type": "code",
        "colab": {
          "base_uri": "https://localhost:8080/",
          "height": 559
        },
        "outputId": "4c82b629-0210-4fc0-b36a-39318e88d44f"
      },
      "source": [
        "%matplotlib inline\n",
        "import matplotlib.pyplot as plt\n",
        "import seaborn as sns\n",
        "sns.set_style('darkgrid')\n",
        "sns.set(font_scale=1.5)\n",
        "fig, ax = plt.subplots(figsize=(14,8))\n",
        "\n",
        "ax.set_ylabel('BlueCars_taken_sum')\n",
        "\n",
        "# boxplot with only these two variables\n",
        "_ = autolib_df[['day_type', 'BlueCars_taken_sum']].boxplot(by='day_type', figsize=(13,8), vert=True, sym='b.', ax=ax)\n"
      ],
      "execution_count": 71,
      "outputs": [
        {
          "output_type": "display_data",
          "data": {
            "image/png": "[encoded data removed]",
            "text/plain": [
              "<Figure size 1008x576 with 1 Axes>"
            ]
          },
          "metadata": {
            "tags": []
          }
        }
      ]
    },
    {
      "cell_type": "code",
      "metadata": {
        "id": "GIB6EgYbYv1W",
        "colab_type": "code",
        "colab": {
          "base_uri": "https://localhost:8080/",
          "height": 559
        },
        "outputId": "12d62e52-e847-49ff-99ec-812a06fe646e"
      },
      "source": [
        "fig, ax = plt.subplots(figsize=(14,8))\n",
        "\n",
        "ax.set_ylabel('BlueCars_returned_sum')\n",
        "\n",
        "# boxplot with only these two variables\n",
        "_ = autolib_df[['day_type', 'BlueCars_returned_sum']].boxplot(by='day_type', figsize=(13,8), vert=True, sym='b.', ax=ax)"
      ],
      "execution_count": 72,
      "outputs": [
        {
          "output_type": "display_data",
          "data": {
            "image/png": "[encoded data removed]",
            "text/plain": [
              "<Figure size 1008x576 with 1 Axes>"
            ]
          },
          "metadata": {
            "tags": []
          }
        }
      ]
    },
    {
      "cell_type": "markdown",
      "metadata": {
        "id": "CtKeqSl1cnoG",
        "colab_type": "text"
      },
      "source": [
        "# Sampling and hypothesis testing"
      ]
    },
    {
      "cell_type": "code",
      "metadata": {
        "id": "bzUfPIfVc1k1",
        "colab_type": "code",
        "colab": {
          "base_uri": "https://localhost:8080/",
          "height": 34
        },
        "outputId": "688e548b-ba26-49e9-9283-e41605dcc730"
      },
      "source": [
        "# finding the sample size\n",
        "import math\n",
        " \n",
        "# SUPPORTED CONFIDENCE LEVELS: 50%, 68%, 90%, 95%, and 99%\n",
        "confidence_level_constant = [50,.67], [68,.99], [90,1.64], [95,1.96], [99,2.57]\n",
        " \n",
        "# CALCULATE THE SAMPLE SIZE\n",
        "def sample_size(population_size, confidence_level, confidence_interval):\n",
        "  Z = 0.0\n",
        "  p = 0.5\n",
        "  e = confidence_interval/100.0\n",
        "  N = population_size\n",
        "  n_0 = 0.0\n",
        "  n = 0.0\n",
        " \n",
        "  # LOOP THROUGH SUPPORTED CONFIDENCE LEVELS AND FIND THE NUM STD\n",
        "  # DEVIATIONS FOR THAT CONFIDENCE LEVEL\n",
        "  for i in confidence_level_constant:\n",
        "    if i[0] == confidence_level:\n",
        "      Z = i[1]\n",
        " \n",
        "  if Z == 0.0:\n",
        "    return -1\n",
        " \n",
        "  # CALC SAMPLE SIZE\n",
        "  n_0 = ((Z**2) * p * (1-p)) / (e**2)\n",
        " \n",
        "  # ADJUST SAMPLE SIZE FOR FINITE POPULATION\n",
        "  n = n_0 / (1 + ((n_0 - 1) / float(N)) )\n",
        " \n",
        "  return int(math.ceil(n)) # THE SAMPLE SIZE\n",
        " \n",
        "def main():\n",
        "  sample_sz = 0\n",
        "  population_sz = 16085\n",
        "  confidence_level = 95.0\n",
        "  confidence_interval = 2.0\n",
        " \n",
        "  sample_sz = sample_size(population_sz, confidence_level, confidence_interval)\n",
        " \n",
        "  print(\"SAMPLE SIZE: %d\" % sample_sz)\n",
        " \n",
        "if __name__ == \"__main__\":\n",
        "  main()"
      ],
      "execution_count": 26,
      "outputs": [
        {
          "output_type": "stream",
          "text": [
            "SAMPLE SIZE: 2090\n"
          ],
          "name": "stdout"
        }
      ]
    },
    {
      "cell_type": "code",
      "metadata": {
        "id": "8f20EPZxJL7S",
        "colab_type": "code",
        "colab": {
          "base_uri": "https://localhost:8080/",
          "height": 410
        },
        "outputId": "f7df7cba-e9fe-4c77-e454-bfa73199b9ab"
      },
      "source": [
        "# obtaining the random sample via simple random sampling\n",
        "autolib_dfsample = autolib_df.sample(n=2090, replace='False')\n",
        "autolib_dfsample"
      ],
      "execution_count": 73,
      "outputs": [
        {
          "output_type": "execute_result",
          "data": {
            "text/html": [
              "<div>\n",
              "<style scoped>\n",
              "    .dataframe tbody tr th:only-of-type {\n",
              "        vertical-align: middle;\n",
              "    }\n",
              "\n",
              "    .dataframe tbody tr th {\n",
              "        vertical-align: top;\n",
              "    }\n",
              "\n",
              "    .dataframe thead th {\n",
              "        text-align: right;\n",
              "    }\n",
              "</style>\n",
              "<table border=\"1\" class=\"dataframe\">\n",
              "  <thead>\n",
              "    <tr style=\"text-align: right;\">\n",
              "      <th></th>\n",
              "      <th>Postal code</th>\n",
              "      <th>date</th>\n",
              "      <th>day_type</th>\n",
              "      <th>BlueCars_taken_sum</th>\n",
              "      <th>BlueCars_returned_sum</th>\n",
              "    </tr>\n",
              "  </thead>\n",
              "  <tbody>\n",
              "    <tr>\n",
              "      <th>12893</th>\n",
              "      <td>93800</td>\n",
              "      <td>3/27/2018</td>\n",
              "      <td>weekday</td>\n",
              "      <td>8</td>\n",
              "      <td>11</td>\n",
              "    </tr>\n",
              "    <tr>\n",
              "      <th>923</th>\n",
              "      <td>75006</td>\n",
              "      <td>6/7/2018</td>\n",
              "      <td>weekday</td>\n",
              "      <td>266</td>\n",
              "      <td>261</td>\n",
              "    </tr>\n",
              "    <tr>\n",
              "      <th>851</th>\n",
              "      <td>75006</td>\n",
              "      <td>3/16/2018</td>\n",
              "      <td>weekday</td>\n",
              "      <td>277</td>\n",
              "      <td>293</td>\n",
              "    </tr>\n",
              "    <tr>\n",
              "      <th>2676</th>\n",
              "      <td>75018</td>\n",
              "      <td>1/25/2018</td>\n",
              "      <td>weekday</td>\n",
              "      <td>387</td>\n",
              "      <td>368</td>\n",
              "    </tr>\n",
              "    <tr>\n",
              "      <th>1183</th>\n",
              "      <td>75008</td>\n",
              "      <td>4/5/2018</td>\n",
              "      <td>weekday</td>\n",
              "      <td>497</td>\n",
              "      <td>494</td>\n",
              "    </tr>\n",
              "    <tr>\n",
              "      <th>...</th>\n",
              "      <td>...</td>\n",
              "      <td>...</td>\n",
              "      <td>...</td>\n",
              "      <td>...</td>\n",
              "      <td>...</td>\n",
              "    </tr>\n",
              "    <tr>\n",
              "      <th>6666</th>\n",
              "      <td>92240</td>\n",
              "      <td>5/1/2018</td>\n",
              "      <td>weekday</td>\n",
              "      <td>98</td>\n",
              "      <td>109</td>\n",
              "    </tr>\n",
              "    <tr>\n",
              "      <th>9659</th>\n",
              "      <td>92700</td>\n",
              "      <td>1/5/2018</td>\n",
              "      <td>weekday</td>\n",
              "      <td>114</td>\n",
              "      <td>114</td>\n",
              "    </tr>\n",
              "    <tr>\n",
              "      <th>9747</th>\n",
              "      <td>92700</td>\n",
              "      <td>4/6/2018</td>\n",
              "      <td>weekday</td>\n",
              "      <td>125</td>\n",
              "      <td>111</td>\n",
              "    </tr>\n",
              "    <tr>\n",
              "      <th>717</th>\n",
              "      <td>75005</td>\n",
              "      <td>4/7/2018</td>\n",
              "      <td>weekend</td>\n",
              "      <td>412</td>\n",
              "      <td>426</td>\n",
              "    </tr>\n",
              "    <tr>\n",
              "      <th>7514</th>\n",
              "      <td>92310</td>\n",
              "      <td>1/30/2018</td>\n",
              "      <td>weekday</td>\n",
              "      <td>39</td>\n",
              "      <td>44</td>\n",
              "    </tr>\n",
              "  </tbody>\n",
              "</table>\n",
              "<p>2090 rows × 5 columns</p>\n",
              "</div>"
            ],
            "text/plain": [
              "       Postal code       date  ... BlueCars_taken_sum  BlueCars_returned_sum\n",
              "12893        93800  3/27/2018  ...                  8                     11\n",
              "923          75006   6/7/2018  ...                266                    261\n",
              "851          75006  3/16/2018  ...                277                    293\n",
              "2676         75018  1/25/2018  ...                387                    368\n",
              "1183         75008   4/5/2018  ...                497                    494\n",
              "...            ...        ...  ...                ...                    ...\n",
              "6666         92240   5/1/2018  ...                 98                    109\n",
              "9659         92700   1/5/2018  ...                114                    114\n",
              "9747         92700   4/6/2018  ...                125                    111\n",
              "717          75005   4/7/2018  ...                412                    426\n",
              "7514         92310  1/30/2018  ...                 39                     44\n",
              "\n",
              "[2090 rows x 5 columns]"
            ]
          },
          "metadata": {
            "tags": []
          },
          "execution_count": 73
        }
      ]
    },
    {
      "cell_type": "code",
      "metadata": {
        "id": "j43Za_sIM_TF",
        "colab_type": "code",
        "colab": {
          "base_uri": "https://localhost:8080/",
          "height": 331
        },
        "outputId": "bbc2fec2-3ca2-4def-c6c6-be72399c8792"
      },
      "source": [
        "# testing for normality of the autolib_dfsample\n",
        "autolib_dfsample.hist(column='BlueCars_taken_sum')\n",
        "\n"
      ],
      "execution_count": 74,
      "outputs": [
        {
          "output_type": "execute_result",
          "data": {
            "text/plain": [
              "array([[<matplotlib.axes._subplots.AxesSubplot object at 0x7f700f1f2da0>]],\n",
              "      dtype=object)"
            ]
          },
          "metadata": {
            "tags": []
          },
          "execution_count": 74
        },
        {
          "output_type": "display_data",
          "data": {
            "image/png": "[encoded data removed]",
            "text/plain": [
              "<Figure size 432x288 with 1 Axes>"
            ]
          },
          "metadata": {
            "tags": []
          }
        }
      ]
    },
    {
      "cell_type": "markdown",
      "metadata": {
        "id": "oKsrqSyBj-L6",
        "colab_type": "text"
      },
      "source": [
        "The sample does not follow a normal distribution"
      ]
    },
    {
      "cell_type": "code",
      "metadata": {
        "id": "RnlnwZoHkFkS",
        "colab_type": "code",
        "colab": {
          "base_uri": "https://localhost:8080/",
          "height": 169
        },
        "outputId": "ced352d9-222e-428a-fd74-26573b8d51f8"
      },
      "source": [
        "autolib_dfsample[['BlueCars_taken_sum', 'day_type']].groupby(['day_type']).describe()"
      ],
      "execution_count": 75,
      "outputs": [
        {
          "output_type": "execute_result",
          "data": {
            "text/html": [
              "<div>\n",
              "<style scoped>\n",
              "    .dataframe tbody tr th:only-of-type {\n",
              "        vertical-align: middle;\n",
              "    }\n",
              "\n",
              "    .dataframe tbody tr th {\n",
              "        vertical-align: top;\n",
              "    }\n",
              "\n",
              "    .dataframe thead tr th {\n",
              "        text-align: left;\n",
              "    }\n",
              "\n",
              "    .dataframe thead tr:last-of-type th {\n",
              "        text-align: right;\n",
              "    }\n",
              "</style>\n",
              "<table border=\"1\" class=\"dataframe\">\n",
              "  <thead>\n",
              "    <tr>\n",
              "      <th></th>\n",
              "      <th colspan=\"8\" halign=\"left\">BlueCars_taken_sum</th>\n",
              "    </tr>\n",
              "    <tr>\n",
              "      <th></th>\n",
              "      <th>count</th>\n",
              "      <th>mean</th>\n",
              "      <th>std</th>\n",
              "      <th>min</th>\n",
              "      <th>25%</th>\n",
              "      <th>50%</th>\n",
              "      <th>75%</th>\n",
              "      <th>max</th>\n",
              "    </tr>\n",
              "    <tr>\n",
              "      <th>day_type</th>\n",
              "      <th></th>\n",
              "      <th></th>\n",
              "      <th></th>\n",
              "      <th></th>\n",
              "      <th></th>\n",
              "      <th></th>\n",
              "      <th></th>\n",
              "      <th></th>\n",
              "    </tr>\n",
              "  </thead>\n",
              "  <tbody>\n",
              "    <tr>\n",
              "      <th>weekday</th>\n",
              "      <td>1521.0</td>\n",
              "      <td>116.778435</td>\n",
              "      <td>168.136791</td>\n",
              "      <td>0.0</td>\n",
              "      <td>19.0</td>\n",
              "      <td>43.0</td>\n",
              "      <td>130.0</td>\n",
              "      <td>994.0</td>\n",
              "    </tr>\n",
              "    <tr>\n",
              "      <th>weekend</th>\n",
              "      <td>569.0</td>\n",
              "      <td>149.992970</td>\n",
              "      <td>210.809531</td>\n",
              "      <td>0.0</td>\n",
              "      <td>26.0</td>\n",
              "      <td>61.0</td>\n",
              "      <td>149.0</td>\n",
              "      <td>1338.0</td>\n",
              "    </tr>\n",
              "  </tbody>\n",
              "</table>\n",
              "</div>"
            ],
            "text/plain": [
              "         BlueCars_taken_sum                          ...                     \n",
              "                      count        mean         std  ...   50%    75%     max\n",
              "day_type                                             ...                     \n",
              "weekday              1521.0  116.778435  168.136791  ...  43.0  130.0   994.0\n",
              "weekend               569.0  149.992970  210.809531  ...  61.0  149.0  1338.0\n",
              "\n",
              "[2 rows x 8 columns]"
            ]
          },
          "metadata": {
            "tags": []
          },
          "execution_count": 75
        }
      ]
    },
    {
      "cell_type": "code",
      "metadata": {
        "id": "bXnXn7n7sp_B",
        "colab_type": "code",
        "colab": {}
      },
      "source": [
        "# hypothesis testing\n",
        "# H0: sample mean of the sum of bluecars taken during the weekends is the same as the population mean of bluecars taken during weekends\n",
        "# Ha: sample mean of the sum of bluecars taken during weekends is not the same as the population mean of the blue cars taken during weekends \n",
        "# population mean and std for the population are as follows   \n",
        "#          N\t    Mean\t     SD\t      \n",
        "#day_type\t\t\t\t\t\t\n",
        "#weekday\t11544\t116.0287\t169.6269\t\n",
        "#weekend\t4541\t151.0901\t218.5656\t\n",
        "mu = 151.0901\n",
        "sigma = 218.5656\n",
        "# sigma is the std of the population\n"
      ],
      "execution_count": 76,
      "outputs": []
    },
    {
      "cell_type": "markdown",
      "metadata": {
        "id": "fGkXiFTAzkg7",
        "colab_type": "text"
      },
      "source": [
        "The statistical significance alpha level is α = 0.05. Next, we use a z table to look up the critical z value that cooresponds to this α level. Here we will carry out a two-tailed test because the sample mean can be greater than or less than the population mean. We just are testing to see if the two are equal or not (see the alternative hypothesis above). Next we calculate the z-statitic\n",
        "for the sample mean compared to the population mean dividing by the standard deviation of the sample mean, which is the standard error σ/sqrt(N). If this z-statistic is less than z-critical then we accept the null hypothesis, otherwise we reject the null and accept the alternative hypothesis. Let's do it."
      ]
    },
    {
      "cell_type": "code",
      "metadata": {
        "id": "XwUnSG1H0RzK",
        "colab_type": "code",
        "colab": {
          "base_uri": "https://localhost:8080/",
          "height": 34
        },
        "outputId": "a2d63ee6-19bf-4a16-8b8c-9b8a3f1327df"
      },
      "source": [
        "z_critical = 1.96 # alpha level of 0.05 and two-tailed test\n",
        "# the mean of the sample is 157.857143\n",
        "x_bar = 157.857143\n",
        "N = 553\n",
        "SE = sigma/np.sqrt(N)\n",
        "z_stat = (x_bar - mu)/SE\n",
        "print(z_stat)"
      ],
      "execution_count": 77,
      "outputs": [
        {
          "output_type": "stream",
          "text": [
            "0.7280809907442307\n"
          ],
          "name": "stdout"
        }
      ]
    },
    {
      "cell_type": "markdown",
      "metadata": {
        "id": "LIJQnePd1pGm",
        "colab_type": "text"
      },
      "source": [
        "Since z_stat is less than z_critical we accept the null hypothesis and reject the alternative. Statistically, we say the sample mean of the cars taken on weekends is no different than the population mean."
      ]
    },
    {
      "cell_type": "markdown",
      "metadata": {
        "id": "S33kj5Pma627",
        "colab_type": "text"
      },
      "source": [
        "what if the sample size was larger? I will redo the calculation with N=800\n",
        "\n"
      ]
    },
    {
      "cell_type": "code",
      "metadata": {
        "id": "Hp7DFDX0bGZV",
        "colab_type": "code",
        "colab": {
          "base_uri": "https://localhost:8080/",
          "height": 34
        },
        "outputId": "443121ef-3e81-4217-b115-6115f0642698"
      },
      "source": [
        "N = 1000;\n",
        "SE = sigma/np.sqrt(N)\n",
        "z_stat = (x_bar - mu)/SE\n",
        "print(z_stat)"
      ],
      "execution_count": 79,
      "outputs": [
        {
          "output_type": "stream",
          "text": [
            "0.9790776272340576\n"
          ],
          "name": "stdout"
        }
      ]
    },
    {
      "cell_type": "markdown",
      "metadata": {
        "id": "TjKDDu6ycdj3",
        "colab_type": "text"
      },
      "source": [
        "With the increased sample size (N=1000), we will still reject the alternative. However, the Z stat is increasing which means that there is a point where the sample size will lead to the acceptance of the alternative hypothesis. "
      ]
    }
  ]
}